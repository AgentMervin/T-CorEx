{
 "cells": [
  {
   "cell_type": "code",
   "execution_count": 1,
   "metadata": {},
   "outputs": [
    {
     "name": "stdout",
     "output_type": "stream",
     "text": [
      "Install CUDA and cudamat (for python) to enable GPU speedups.\n"
     ]
    }
   ],
   "source": [
    "import numpy as np\n",
    "import pandas as pd\n",
    "import cPickle as pkl\n",
    "import linearcorex\n",
    "from matplotlib import pyplot as plt"
   ]
  },
  {
   "cell_type": "markdown",
   "metadata": {},
   "source": [
    "# Load Stock Data"
   ]
  },
  {
   "cell_type": "code",
   "execution_count": 2,
   "metadata": {
    "collapsed": true
   },
   "outputs": [],
   "source": [
    "def load_data():\n",
    "    with open('../data/EOD_week.pkl', 'rb') as f:\n",
    "        df = pd.DataFrame(pkl.load(f))\n",
    "    return df"
   ]
  },
  {
   "cell_type": "code",
   "execution_count": 3,
   "metadata": {},
   "outputs": [
    {
     "name": "stdout",
     "output_type": "stream",
     "text": [
      "Data.shape = (887, 5038)\n"
     ]
    }
   ],
   "source": [
    "df = load_data()\n",
    "print(\"Data.shape = {}\".format(df.shape))"
   ]
  },
  {
   "cell_type": "markdown",
   "metadata": {},
   "source": [
    "# Train linear corex for single window"
   ]
  },
  {
   "cell_type": "code",
   "execution_count": 18,
   "metadata": {
    "collapsed": true
   },
   "outputs": [],
   "source": [
    "corex_params = {\n",
    "    'n_hidden':10,\n",
    "    'max_iter':300,\n",
    "    'tol':1e-5,\n",
    "    'anneal':True,\n",
    "    'missing_values':None,\n",
    "    'discourage_overlap':True,\n",
    "    'gaussianize':'standard',\n",
    "    'gpu':False,\n",
    "    'verbose':True,\n",
    "    'seed':None\n",
    "}"
   ]
  },
  {
   "cell_type": "code",
   "execution_count": 19,
   "metadata": {},
   "outputs": [
    {
     "name": "stdout",
     "output_type": "stream",
     "text": [
      "Linear CorEx with 10 latent factors\n"
     ]
    }
   ],
   "source": [
    "corex = linearcorex.Corex(**corex_params)"
   ]
  },
  {
   "cell_type": "code",
   "execution_count": 20,
   "metadata": {},
   "outputs": [
    {
     "name": "stdout",
     "output_type": "stream",
     "text": [
      "Warning: outliers more than 6 stds away from mean. Consider using gaussianize='outliers'\n",
      "Warning: Convergence not achieved in 300 iterations. Final delta: 0.006674\n",
      "Warning: Convergence not achieved in 300 iterations. Final delta: 0.004375\n",
      "Warning: Convergence not achieved in 300 iterations. Final delta: 0.000933\n",
      "Warning: Convergence not achieved in 300 iterations. Final delta: 0.001154\n",
      "275 iterations to tol: 0.000010\n",
      "70 iterations to tol: 0.000010\n",
      "38 iterations to tol: 0.000010\n"
     ]
    },
    {
     "data": {
      "text/plain": [
       "<linearcorex.linearcorex.Corex at 0x7f0ab076d350>"
      ]
     },
     "execution_count": 20,
     "metadata": {},
     "output_type": "execute_result"
    }
   ],
   "source": [
    "corex.fit(df[:200])"
   ]
  },
  {
   "cell_type": "code",
   "execution_count": 21,
   "metadata": {},
   "outputs": [
    {
     "data": {
      "text/plain": [
       "663.93938827514648"
      ]
     },
     "execution_count": 21,
     "metadata": {},
     "output_type": "execute_result"
    }
   ],
   "source": [
    "corex.tc"
   ]
  },
  {
   "cell_type": "markdown",
   "metadata": {},
   "source": [
    "# Running 10 times and averaging"
   ]
  },
  {
   "cell_type": "code",
   "execution_count": 22,
   "metadata": {
    "collapsed": true
   },
   "outputs": [],
   "source": [
    "all_values = []"
   ]
  },
  {
   "cell_type": "code",
   "execution_count": 23,
   "metadata": {},
   "outputs": [
    {
     "name": "stdout",
     "output_type": "stream",
     "text": [
      "Linear CorEx with 10 latent factors\n",
      "Warning: outliers more than 6 stds away from mean. Consider using gaussianize='outliers'\n",
      "Warning: Convergence not achieved in 300 iterations. Final delta: 0.000721\n",
      "Warning: Convergence not achieved in 300 iterations. Final delta: 0.004265\n",
      "277 iterations to tol: 0.000010\n",
      "43 iterations to tol: 0.000010\n",
      "30 iterations to tol: 0.000010\n",
      "50 iterations to tol: 0.000010\n",
      "67 iterations to tol: 0.000010\n",
      "Linear CorEx with 10 latent factors\n",
      "Warning: outliers more than 6 stds away from mean. Consider using gaussianize='outliers'\n",
      "Warning: Convergence not achieved in 300 iterations. Final delta: 0.001711\n",
      "Warning: Convergence not achieved in 300 iterations. Final delta: 0.001432\n",
      "Warning: Convergence not achieved in 300 iterations. Final delta: 0.000805\n",
      "Warning: Convergence not achieved in 300 iterations. Final delta: 0.000259\n",
      "68 iterations to tol: 0.000010\n",
      "97 iterations to tol: 0.000010\n",
      "56 iterations to tol: 0.000010\n",
      "Linear CorEx with 10 latent factors\n",
      "Warning: outliers more than 6 stds away from mean. Consider using gaussianize='outliers'\n",
      "Warning: Convergence not achieved in 300 iterations. Final delta: 0.007172\n",
      "Warning: Convergence not achieved in 300 iterations. Final delta: 0.009180\n",
      "203 iterations to tol: 0.000010\n",
      "33 iterations to tol: 0.000010\n",
      "106 iterations to tol: 0.000010\n",
      "96 iterations to tol: 0.000010\n",
      "57 iterations to tol: 0.000010\n",
      "Linear CorEx with 10 latent factors\n",
      "Warning: outliers more than 6 stds away from mean. Consider using gaussianize='outliers'\n",
      "Warning: Convergence not achieved in 300 iterations. Final delta: 0.000319\n",
      "Warning: Convergence not achieved in 300 iterations. Final delta: 0.000698\n",
      "Warning: Convergence not achieved in 300 iterations. Final delta: 0.001696\n",
      "Warning: Convergence not achieved in 300 iterations. Final delta: 0.000460\n",
      "132 iterations to tol: 0.000010\n",
      "110 iterations to tol: 0.000010\n",
      "69 iterations to tol: 0.000010\n",
      "Linear CorEx with 10 latent factors\n",
      "Warning: outliers more than 6 stds away from mean. Consider using gaussianize='outliers'\n",
      "Warning: Convergence not achieved in 300 iterations. Final delta: 0.004559\n",
      "Warning: Convergence not achieved in 300 iterations. Final delta: 0.000799\n",
      "Warning: Convergence not achieved in 300 iterations. Final delta: 0.001312\n",
      "Warning: Convergence not achieved in 300 iterations. Final delta: 0.000280\n",
      "114 iterations to tol: 0.000010\n",
      "92 iterations to tol: 0.000010\n",
      "68 iterations to tol: 0.000010\n",
      "Linear CorEx with 10 latent factors\n",
      "Warning: outliers more than 6 stds away from mean. Consider using gaussianize='outliers'\n",
      "Warning: Convergence not achieved in 300 iterations. Final delta: 0.004732\n",
      "Warning: Convergence not achieved in 300 iterations. Final delta: 0.001883\n",
      "Warning: Convergence not achieved in 300 iterations. Final delta: 0.001211\n",
      "Warning: Convergence not achieved in 300 iterations. Final delta: 0.000435\n",
      "Warning: Convergence not achieved in 300 iterations. Final delta: 0.000053\n",
      "Warning: Convergence not achieved in 300 iterations. Final delta: 0.000488\n",
      "84 iterations to tol: 0.000010\n",
      "Linear CorEx with 10 latent factors\n",
      "Warning: outliers more than 6 stds away from mean. Consider using gaussianize='outliers'\n",
      "Warning: Convergence not achieved in 300 iterations. Final delta: 0.003143\n",
      "Warning: Convergence not achieved in 300 iterations. Final delta: 0.000809\n",
      "225 iterations to tol: 0.000010\n",
      "Warning: Convergence not achieved in 300 iterations. Final delta: 0.000969\n",
      "221 iterations to tol: 0.000010\n",
      "61 iterations to tol: 0.000010\n",
      "108 iterations to tol: 0.000010\n",
      "Linear CorEx with 10 latent factors\n",
      "Warning: outliers more than 6 stds away from mean. Consider using gaussianize='outliers'\n",
      "Warning: Convergence not achieved in 300 iterations. Final delta: 0.000677\n",
      "Warning: Convergence not achieved in 300 iterations. Final delta: 0.001736\n",
      "Warning: Convergence not achieved in 300 iterations. Final delta: 0.005640\n",
      "275 iterations to tol: 0.000010\n",
      "69 iterations to tol: 0.000010\n",
      "91 iterations to tol: 0.000010\n",
      "61 iterations to tol: 0.000010\n",
      "Linear CorEx with 10 latent factors\n",
      "Warning: outliers more than 6 stds away from mean. Consider using gaussianize='outliers'\n",
      "Warning: Convergence not achieved in 300 iterations. Final delta: 0.004295\n",
      "Warning: Convergence not achieved in 300 iterations. Final delta: 0.004082\n",
      "Warning: Convergence not achieved in 300 iterations. Final delta: 0.000502\n",
      "274 iterations to tol: 0.000010\n",
      "227 iterations to tol: 0.000010\n",
      "49 iterations to tol: 0.000010\n",
      "63 iterations to tol: 0.000010\n",
      "Linear CorEx with 10 latent factors\n",
      "Warning: outliers more than 6 stds away from mean. Consider using gaussianize='outliers'\n",
      "Warning: Convergence not achieved in 300 iterations. Final delta: 0.002604\n",
      "Warning: Convergence not achieved in 300 iterations. Final delta: 0.000378\n",
      "124 iterations to tol: 0.000010\n",
      "83 iterations to tol: 0.000010\n",
      "26 iterations to tol: 0.000010\n",
      "46 iterations to tol: 0.000010\n",
      "59 iterations to tol: 0.000010\n"
     ]
    }
   ],
   "source": [
    "for i in range(10):\n",
    "    corex = linearcorex.Corex(**corex_params)\n",
    "    corex.fit(df[:200])\n",
    "    all_values += [corex.tc]"
   ]
  },
  {
   "cell_type": "code",
   "execution_count": 24,
   "metadata": {},
   "outputs": [
    {
     "name": "stdout",
     "output_type": "stream",
     "text": [
      "10 runs\n",
      "mean = 653.812761497\n",
      "max  = 664.056051254\n",
      "min  = 648.960245132\n"
     ]
    }
   ],
   "source": [
    "print \"{} runs\".format(len(all_values))\n",
    "print \"mean = {}\".format(np.mean(all_values))\n",
    "print \"max  = {}\".format(np.max(all_values))\n",
    "print \"min  = {}\".format(np.min(all_values))"
   ]
  },
  {
   "cell_type": "code",
   "execution_count": null,
   "metadata": {
    "collapsed": true
   },
   "outputs": [],
   "source": [
    "10 runs\n",
    "mean = 649.415188599\n",
    "max  = 663.744283676\n",
    "min  = 643.058347702"
   ]
  },
  {
   "cell_type": "markdown",
   "metadata": {},
   "source": [
    "## Covariance Matrix "
   ]
  },
  {
   "cell_type": "code",
   "execution_count": null,
   "metadata": {
    "collapsed": true
   },
   "outputs": [],
   "source": [
    "cov = corex.get_covariance()\n",
    "plt.imshow(cov[:20, :20])\n",
    "plt.show()"
   ]
  },
  {
   "cell_type": "markdown",
   "metadata": {},
   "source": [
    "## Mutual Informations"
   ]
  },
  {
   "cell_type": "code",
   "execution_count": null,
   "metadata": {
    "collapsed": true
   },
   "outputs": [],
   "source": [
    "mis = corex.mis\n",
    "plt.imshow(mis[:, :20])\n",
    "plt.show()"
   ]
  },
  {
   "cell_type": "code",
   "execution_count": 10,
   "metadata": {
    "collapsed": true
   },
   "outputs": [],
   "source": [
    "def get_parent(corex, i):\n",
    "    \"\"\"Get parent of `xi` in a learned CorEx model\"\"\"\n",
    "    return np.argmax(corex.mis[:, i])"
   ]
  },
  {
   "cell_type": "markdown",
   "metadata": {},
   "source": [
    "### print parents"
   ]
  },
  {
   "cell_type": "code",
   "execution_count": 11,
   "metadata": {},
   "outputs": [
    {
     "name": "stdout",
     "output_type": "stream",
     "text": [
      "[1, 1, 0, 0, 0, 0, 0, 1, 3, 0, 0, 0, 0, 1, 0, 0, 0, 0, 1, 0]\n"
     ]
    }
   ],
   "source": [
    "print([get_parent(corex, i) for i in range(20)])"
   ]
  },
  {
   "cell_type": "markdown",
   "metadata": {},
   "source": [
    "## Try to get right order of hidden factors"
   ]
  },
  {
   "cell_type": "code",
   "execution_count": 12,
   "metadata": {
    "collapsed": true
   },
   "outputs": [],
   "source": [
    "def match_order(A, B):\n",
    "    \"\"\" Given two instances of CorEx: A and B, this function tries\n",
    "    to reorder hidden factors for B to match the order of hidden \n",
    "    factors of A.\n",
    "    Each hidden factor of B is matched to some hidden factor of B\n",
    "    with which they have the most children overlap.\n",
    "    \n",
    "    NOTE: is this precise enough ?\n",
    "    \"\"\"\n",
    "\n",
    "    used = [False] * A.m\n",
    "    btoa = [None] * A.m # mapping from B to A\n",
    "    \n",
    "    cnt_match = np.zeros((A.m, B.m))\n",
    "    for x in range(A.nv):\n",
    "        ai = get_parent(A, x)\n",
    "        bj = get_parent(B, x)\n",
    "        cnt_match[ai, bj] += 1\n",
    "    \n",
    "    for j in range(B.m):\n",
    "        best = None\n",
    "        best_overlap = None\n",
    "        for i in range(A.m):\n",
    "            if used[i]:\n",
    "                continue\n",
    "            cur_overlap = cnt_match[i, j]\n",
    "            if (best_overlap is None) or (cur_overlap > best_overlap):\n",
    "                best = i\n",
    "                best_overlap = cur_overlap\n",
    "        \n",
    "        assert best is not None\n",
    "        used[best] = True\n",
    "        btoa[j] = best\n",
    "    \n",
    "    return btoa"
   ]
  },
  {
   "cell_type": "markdown",
   "metadata": {},
   "source": [
    "# Train 2 different corexes on different time windows"
   ]
  },
  {
   "cell_type": "code",
   "execution_count": 63,
   "metadata": {
    "collapsed": true
   },
   "outputs": [],
   "source": [
    "start_A = 0\n",
    "end_A = 200\n",
    "start_B = 20\n",
    "end_B = 220\n",
    "\n",
    "XA = df[start_A:end_A]\n",
    "XB = df[start_B:end_B]\n",
    "\n",
    "corex_params = {\n",
    "    'n_hidden':10,\n",
    "    'max_iter':150,\n",
    "    'tol':1e-5,\n",
    "    'anneal':True,\n",
    "    'missing_values':None,\n",
    "    'discourage_overlap':True,\n",
    "    'gaussianize':'standard',\n",
    "    'gpu':False,\n",
    "    'verbose':True,\n",
    "    'seed':None\n",
    "}"
   ]
  },
  {
   "cell_type": "code",
   "execution_count": 64,
   "metadata": {},
   "outputs": [
    {
     "name": "stdout",
     "output_type": "stream",
     "text": [
      "Linear CorEx with 10 latent factors\n",
      "Linear CorEx with 10 latent factors\n"
     ]
    }
   ],
   "source": [
    "A = linearcorex.Corex(**corex_params)\n",
    "B = linearcorex.Corex(**corex_params)"
   ]
  },
  {
   "cell_type": "code",
   "execution_count": 65,
   "metadata": {},
   "outputs": [
    {
     "name": "stdout",
     "output_type": "stream",
     "text": [
      "Warning: outliers more than 6 stds away from mean. Consider using gaussianize='outliers'\n",
      "Warning: Convergence not achieved in 150 iterations. Final delta: 0.009563\n",
      "Warning: Convergence not achieved in 150 iterations. Final delta: 0.003626\n",
      "Warning: Convergence not achieved in 150 iterations. Final delta: 0.004421\n",
      "Warning: Convergence not achieved in 150 iterations. Final delta: 0.002337\n",
      "Warning: Convergence not achieved in 150 iterations. Final delta: 0.001759\n",
      "Warning: Convergence not achieved in 150 iterations. Final delta: 0.001245\n",
      "Warning: Convergence not achieved in 150 iterations. Final delta: 0.000912\n"
     ]
    },
    {
     "data": {
      "text/plain": [
       "<linearcorex.linearcorex.Corex at 0x7fdfce77cb50>"
      ]
     },
     "execution_count": 65,
     "metadata": {},
     "output_type": "execute_result"
    }
   ],
   "source": [
    "A.fit(XA)"
   ]
  },
  {
   "cell_type": "code",
   "execution_count": 66,
   "metadata": {},
   "outputs": [
    {
     "name": "stdout",
     "output_type": "stream",
     "text": [
      "Warning: outliers more than 6 stds away from mean. Consider using gaussianize='outliers'\n",
      "Warning: Convergence not achieved in 150 iterations. Final delta: 0.013290\n",
      "Warning: Convergence not achieved in 150 iterations. Final delta: 0.004103\n",
      "Warning: Convergence not achieved in 150 iterations. Final delta: 0.001377\n",
      "123 iterations to tol: 0.000010\n",
      "86 iterations to tol: 0.000010\n",
      "Warning: Convergence not achieved in 150 iterations. Final delta: 0.000662\n",
      "138 iterations to tol: 0.000010\n"
     ]
    },
    {
     "data": {
      "text/plain": [
       "<linearcorex.linearcorex.Corex at 0x7fdfce77c8d0>"
      ]
     },
     "execution_count": 66,
     "metadata": {},
     "output_type": "execute_result"
    }
   ],
   "source": [
    "B.fit(XB)"
   ]
  },
  {
   "cell_type": "code",
   "execution_count": 51,
   "metadata": {},
   "outputs": [
    {
     "data": {
      "image/png": "[encoded data removed]",
      "text/plain": [
       "<matplotlib.figure.Figure at 0x7fdfce6962d0>"
      ]
     },
     "metadata": {},
     "output_type": "display_data"
    }
   ],
   "source": [
    "fig, ax = plt.subplots(ncols=2)\n",
    "ax[0].imshow(A.get_covariance()[:20, :20])\n",
    "ax[1].imshow(B.get_covariance()[:20, :20])\n",
    "plt.show()"
   ]
  },
  {
   "cell_type": "code",
   "execution_count": 52,
   "metadata": {},
   "outputs": [
    {
     "data": {
      "image/png": "[encoded data removed]",
      "text/plain": [
       "<matplotlib.figure.Figure at 0x7fdfce919fd0>"
      ]
     },
     "metadata": {},
     "output_type": "display_data"
    }
   ],
   "source": [
    "fig, ax = plt.subplots(nrows=2)\n",
    "ax[0].imshow(A.mis[:, :20])\n",
    "ax[1].imshow(B.mis[:, :20])\n",
    "plt.show()"
   ]
  },
  {
   "cell_type": "markdown",
   "metadata": {},
   "source": [
    "### try match hiddens"
   ]
  },
  {
   "cell_type": "code",
   "execution_count": 53,
   "metadata": {},
   "outputs": [
    {
     "ename": "NameError",
     "evalue": "name 'match_order' is not defined",
     "output_type": "error",
     "traceback": [
      "\u001b[0;31m---------------------------------------------------------------------------\u001b[0m",
      "\u001b[0;31mNameError\u001b[0m                                 Traceback (most recent call last)",
      "\u001b[0;32m<ipython-input-53-c13402c1eddd>\u001b[0m in \u001b[0;36m<module>\u001b[0;34m()\u001b[0m\n\u001b[0;32m----> 1\u001b[0;31m \u001b[0mbtoa\u001b[0m \u001b[0;34m=\u001b[0m \u001b[0mmatch_order\u001b[0m\u001b[0;34m(\u001b[0m\u001b[0mA\u001b[0m\u001b[0;34m,\u001b[0m\u001b[0mB\u001b[0m\u001b[0;34m)\u001b[0m\u001b[0;34m\u001b[0m\u001b[0m\n\u001b[0m",
      "\u001b[0;31mNameError\u001b[0m: name 'match_order' is not defined"
     ]
    }
   ],
   "source": [
    "btoa = match_order(A,B)"
   ]
  },
  {
   "cell_type": "code",
   "execution_count": null,
   "metadata": {
    "collapsed": true
   },
   "outputs": [],
   "source": [
    "fig, ax = plt.subplots(nrows=2)\n",
    "ax[0].imshow(A.mis[:, :20])\n",
    "ax[1].imshow(B.mis[btoa, :20])\n",
    "plt.show()"
   ]
  },
  {
   "cell_type": "markdown",
   "metadata": {},
   "source": [
    "### TCs"
   ]
  },
  {
   "cell_type": "code",
   "execution_count": 54,
   "metadata": {},
   "outputs": [
    {
     "data": {
      "text/plain": [
       "648.96916580200195"
      ]
     },
     "execution_count": 54,
     "metadata": {},
     "output_type": "execute_result"
    }
   ],
   "source": [
    "A.tc"
   ]
  },
  {
   "cell_type": "code",
   "execution_count": 55,
   "metadata": {},
   "outputs": [
    {
     "data": {
      "text/plain": [
       "676.7777214050293"
      ]
     },
     "execution_count": 55,
     "metadata": {},
     "output_type": "execute_result"
    }
   ],
   "source": [
    "B.tc"
   ]
  },
  {
   "cell_type": "markdown",
   "metadata": {},
   "source": [
    "TODO:\n",
    "    a. create copy of linear corex in linear corex library\n",
    "    b. add L1, L2 regularizations on differences of Ws and add to objective function\n",
    "        I guess this is the most basic type of regularization we can add\n",
    "        Calculate second order gradients to allow to use Quasi Newton optmization\n",
    "    c. Introduce some metrics to understand if the regularization changes something\n",
    "        Good starting point for this is the paper Aram mentioned: Time-varying network inference via graphical lasso\n",
    "        \n",
    "NOTE:\n",
    "    a. in corex objective we they calculate H(Zj) the write 1/2 * log(E[zj^2]) but it should be log(E[zj]^2 - E[zj^2])"
   ]
  },
  {
   "cell_type": "code",
   "execution_count": null,
   "metadata": {
    "collapsed": true
   },
   "outputs": [],
   "source": []
  }
 ],
 "metadata": {
  "kernelspec": {
   "display_name": "Python 2",
   "language": "python",
   "name": "python2"
  },
  "language_info": {
   "codemirror_mode": {
    "name": "ipython",
    "version": 2
   },
   "file_extension": ".py",
   "mimetype": "text/x-python",
   "name": "python",
   "nbconvert_exporter": "python",
   "pygments_lexer": "ipython2",
   "version": "2.7.13"
  }
 },
 "nbformat": 4,
 "nbformat_minor": 2
}
