{
 "cells": [
  {
   "cell_type": "code",
   "execution_count": 1,
   "metadata": {},
   "outputs": [
    {
     "name": "stdout",
     "output_type": "stream",
     "text": [
      "Install CUDA and cudamat (for python) to enable GPU speedups.\n"
     ]
    }
   ],
   "source": [
    "import numpy as np\n",
    "import pandas as pd\n",
    "import cPickle as pkl\n",
    "import linearcorex\n",
    "from matplotlib import pyplot as plt"
   ]
  },
  {
   "cell_type": "markdown",
   "metadata": {},
   "source": [
    "# Load Stock Data"
   ]
  },
  {
   "cell_type": "code",
   "execution_count": 2,
   "metadata": {
    "collapsed": true
   },
   "outputs": [],
   "source": [
    "def load_data():\n",
    "    with open('../data/EOD_week.pkl', 'rb') as f:\n",
    "        df = pd.DataFrame(pkl.load(f))\n",
    "    return df"
   ]
  },
  {
   "cell_type": "code",
   "execution_count": 3,
   "metadata": {},
   "outputs": [
    {
     "name": "stdout",
     "output_type": "stream",
     "text": [
      "Data.shape = (887, 5038)\n"
     ]
    }
   ],
   "source": [
    "df = load_data()\n",
    "print(\"Data.shape = {}\".format(df.shape))"
   ]
  },
  {
   "cell_type": "markdown",
   "metadata": {},
   "source": [
    "# Train linear corex for single window"
   ]
  },
  {
   "cell_type": "code",
   "execution_count": 12,
   "metadata": {},
   "outputs": [
    {
     "name": "stdout",
     "output_type": "stream",
     "text": [
      "Linear CorEx with 4 latent factors\n"
     ]
    }
   ],
   "source": [
    "corex = linearcorex.Corex(n_hidden=4,\n",
    "                        max_iter=200,\n",
    "                        tol=1e-5,\n",
    "                        anneal=True,\n",
    "                        missing_values=None,\n",
    "                        discourage_overlap=True,\n",
    "                        gaussianize='standard',\n",
    "                        gpu=False,\n",
    "                        verbose=True,\n",
    "                        seed=None)"
   ]
  },
  {
   "cell_type": "code",
   "execution_count": 5,
   "metadata": {},
   "outputs": [
    {
     "name": "stdout",
     "output_type": "stream",
     "text": [
      "Warning: outliers more than 6 stds away from mean. Consider using gaussianize='outliers'\n",
      "362 iterations to tol: 0.000010\n",
      "57 iterations to tol: 0.000010\n",
      "39 iterations to tol: 0.000010\n",
      "27 iterations to tol: 0.000010\n",
      "14 iterations to tol: 0.000010\n",
      "17 iterations to tol: 0.000010\n",
      "4 iterations to tol: 0.000010\n"
     ]
    },
    {
     "data": {
      "text/plain": [
       "<linearcorex.linearcorex.Corex at 0x7fdfd4bbd9d0>"
      ]
     },
     "execution_count": 5,
     "metadata": {},
     "output_type": "execute_result"
    }
   ],
   "source": [
    "corex.fit(df)"
   ]
  },
  {
   "cell_type": "code",
   "execution_count": 6,
   "metadata": {},
   "outputs": [
    {
     "data": {
      "text/plain": [
       "array([[-0.   , -0.   ,  0.   , ...,  0.   ,  0.   ,  0.   ],\n",
       "       [ 0.003,  0.002, -0.   , ...,  0.001,  0.001,  0.   ],\n",
       "       [-0.   ,  0.   , -0.001, ..., -0.   , -0.002,  0.   ],\n",
       "       [ 0.001,  0.   , -0.003, ..., -0.   , -0.   , -0.001]], dtype=float32)"
      ]
     },
     "execution_count": 6,
     "metadata": {},
     "output_type": "execute_result"
    }
   ],
   "source": [
    "corex.ws"
   ]
  },
  {
   "cell_type": "code",
   "execution_count": 7,
   "metadata": {},
   "outputs": [
    {
     "data": {
      "text/plain": [
       "1122.0017700195312"
      ]
     },
     "execution_count": 7,
     "metadata": {},
     "output_type": "execute_result"
    }
   ],
   "source": [
    "corex.tc"
   ]
  },
  {
   "cell_type": "markdown",
   "metadata": {},
   "source": [
    "## Covariance Matrix "
   ]
  },
  {
   "cell_type": "code",
   "execution_count": 8,
   "metadata": {},
   "outputs": [
    {
     "data": {
      "image/png": "[encoded data removed]",
      "text/plain": [
       "<matplotlib.figure.Figure at 0x7fdfd4bbd8d0>"
      ]
     },
     "metadata": {},
     "output_type": "display_data"
    }
   ],
   "source": [
    "cov = corex.get_covariance()\n",
    "plt.imshow(cov[:20, :20])\n",
    "plt.show()"
   ]
  },
  {
   "cell_type": "markdown",
   "metadata": {},
   "source": [
    "## Mutual Informations"
   ]
  },
  {
   "cell_type": "code",
   "execution_count": 9,
   "metadata": {},
   "outputs": [
    {
     "data": {
      "image/png": "[encoded data removed]",
      "text/plain": [
       "<matplotlib.figure.Figure at 0x7fdfd4bbd390>"
      ]
     },
     "metadata": {},
     "output_type": "display_data"
    }
   ],
   "source": [
    "mis = corex.mis\n",
    "plt.imshow(mis[:, :20])\n",
    "plt.show()"
   ]
  },
  {
   "cell_type": "code",
   "execution_count": 10,
   "metadata": {
    "collapsed": true
   },
   "outputs": [],
   "source": [
    "def get_parent(corex, i):\n",
    "    \"\"\"Get parent of `xi` in a learned CorEx model\"\"\"\n",
    "    return np.argmax(corex.mis[:, i])"
   ]
  },
  {
   "cell_type": "markdown",
   "metadata": {},
   "source": [
    "### print parents"
   ]
  },
  {
   "cell_type": "code",
   "execution_count": 11,
   "metadata": {},
   "outputs": [
    {
     "name": "stdout",
     "output_type": "stream",
     "text": [
      "[1, 1, 0, 0, 0, 0, 0, 1, 3, 0, 0, 0, 0, 1, 0, 0, 0, 0, 1, 0]\n"
     ]
    }
   ],
   "source": [
    "print([get_parent(corex, i) for i in range(20)])"
   ]
  },
  {
   "cell_type": "markdown",
   "metadata": {},
   "source": [
    "## Try to get right order of hidden factors"
   ]
  },
  {
   "cell_type": "code",
   "execution_count": 12,
   "metadata": {
    "collapsed": true
   },
   "outputs": [],
   "source": [
    "def match_order(A, B):\n",
    "    \"\"\" Given two instances of CorEx: A and B, this function tries\n",
    "    to reorder hidden factors for B to match the order of hidden \n",
    "    factors of A.\n",
    "    Each hidden factor of B is matched to some hidden factor of B\n",
    "    with which they have the most children overlap.\n",
    "    \n",
    "    NOTE: is this precise enough ?\n",
    "    \"\"\"\n",
    "\n",
    "    used = [False] * A.m\n",
    "    btoa = [None] * A.m # mapping from B to A\n",
    "    \n",
    "    cnt_match = np.zeros((A.m, B.m))\n",
    "    for x in range(A.nv):\n",
    "        ai = get_parent(A, x)\n",
    "        bj = get_parent(B, x)\n",
    "        cnt_match[ai, bj] += 1\n",
    "    \n",
    "    for j in range(B.m):\n",
    "        best = None\n",
    "        best_overlap = None\n",
    "        for i in range(A.m):\n",
    "            if used[i]:\n",
    "                continue\n",
    "            cur_overlap = cnt_match[i, j]\n",
    "            if (best_overlap is None) or (cur_overlap > best_overlap):\n",
    "                best = i\n",
    "                best_overlap = cur_overlap\n",
    "        \n",
    "        assert best is not None\n",
    "        used[best] = True\n",
    "        btoa[j] = best\n",
    "    \n",
    "    return btoa"
   ]
  },
  {
   "cell_type": "markdown",
   "metadata": {},
   "source": [
    "# Train 2 different corexes on different time windows"
   ]
  },
  {
   "cell_type": "code",
   "execution_count": 13,
   "metadata": {
    "collapsed": true
   },
   "outputs": [],
   "source": [
    "start_A = 0\n",
    "end_A = 200\n",
    "start_B = 20\n",
    "end_B = 220\n",
    "\n",
    "XA = df[start_A:end_A]\n",
    "XB = df[start_B:end_B]\n",
    "\n",
    "corex_params = {\n",
    "    'n_hidden':10,\n",
    "    'max_iter':10000,\n",
    "    'tol':1e-5,\n",
    "    'anneal':True,\n",
    "    'missing_values':None,\n",
    "    'discourage_overlap':True,\n",
    "    'gaussianize':'standard',\n",
    "    'gpu':False,\n",
    "    'verbose':True,\n",
    "    'seed':None\n",
    "}"
   ]
  },
  {
   "cell_type": "code",
   "execution_count": 14,
   "metadata": {},
   "outputs": [
    {
     "name": "stdout",
     "output_type": "stream",
     "text": [
      "Linear CorEx with 10 latent factors\n",
      "Linear CorEx with 10 latent factors\n"
     ]
    }
   ],
   "source": [
    "A = linearcorex.Corex(**corex_params)\n",
    "B = linearcorex.Corex(**corex_params)"
   ]
  },
  {
   "cell_type": "code",
   "execution_count": null,
   "metadata": {},
   "outputs": [
    {
     "name": "stdout",
     "output_type": "stream",
     "text": [
      "Warning: outliers more than 6 stds away from mean. Consider using gaussianize='outliers'\n"
     ]
    }
   ],
   "source": [
    "A.fit(XA)"
   ]
  },
  {
   "cell_type": "code",
   "execution_count": null,
   "metadata": {},
   "outputs": [],
   "source": [
    "B.fit(XB)"
   ]
  },
  {
   "cell_type": "code",
   "execution_count": null,
   "metadata": {},
   "outputs": [],
   "source": [
    "fig, ax = plt.subplots(ncols=2)\n",
    "ax[0].imshow(A.get_covariance()[:20, :20])\n",
    "ax[1].imshow(B.get_covariance()[:20, :20])\n",
    "plt.show()"
   ]
  },
  {
   "cell_type": "code",
   "execution_count": null,
   "metadata": {},
   "outputs": [],
   "source": [
    "fig, ax = plt.subplots(nrows=2)\n",
    "ax[0].imshow(A.mis[:, :20])\n",
    "ax[1].imshow(B.mis[:, :20])\n",
    "plt.show()"
   ]
  },
  {
   "cell_type": "markdown",
   "metadata": {},
   "source": [
    "### try match hiddens"
   ]
  },
  {
   "cell_type": "code",
   "execution_count": null,
   "metadata": {
    "collapsed": true
   },
   "outputs": [],
   "source": [
    "btoa = match_order(A,B)"
   ]
  },
  {
   "cell_type": "code",
   "execution_count": null,
   "metadata": {},
   "outputs": [],
   "source": [
    "fig, ax = plt.subplots(nrows=2)\n",
    "ax[0].imshow(A.mis[:, :20])\n",
    "ax[1].imshow(B.mis[btoa, :20])\n",
    "plt.show()"
   ]
  },
  {
   "cell_type": "markdown",
   "metadata": {},
   "source": [
    "### TCs"
   ]
  },
  {
   "cell_type": "code",
   "execution_count": null,
   "metadata": {},
   "outputs": [],
   "source": [
    "A.tc"
   ]
  },
  {
   "cell_type": "code",
   "execution_count": null,
   "metadata": {},
   "outputs": [],
   "source": [
    "B.tc"
   ]
  },
  {
   "cell_type": "markdown",
   "metadata": {},
   "source": [
    "TODO:\n",
    "    a. create copy of linear corex in linear corex library\n",
    "    b. add L1, L2 regularizations on differences of Ws and add to objective function\n",
    "        I guess this is the most basic type of regularization we can add\n",
    "        Calculate second order gradients to allow to use Quasi Newton optmization\n",
    "    c. Introduce some metrics to understand if the regularization changes something\n",
    "        Good starting point for this is the paper Aram mentioned: Time-varying network inference via graphical lasso\n",
    "        \n",
    "NOTE:\n",
    "    a. in corex objective we they calculate H(Zj) the write 1/2 * log(E[zj^2]) but it should be log(E[zj]^2 - E[zj^2])"
   ]
  },
  {
   "cell_type": "code",
   "execution_count": null,
   "metadata": {
    "collapsed": true
   },
   "outputs": [],
   "source": []
  }
 ],
 "metadata": {
  "kernelspec": {
   "display_name": "Python 2",
   "language": "python",
   "name": "python2"
  },
  "language_info": {
   "codemirror_mode": {
    "name": "ipython",
    "version": 2
   },
   "file_extension": ".py",
   "mimetype": "text/x-python",
   "name": "python",
   "nbconvert_exporter": "python",
   "pygments_lexer": "ipython2",
   "version": "2.7.13"
  }
 },
 "nbformat": 4,
 "nbformat_minor": 2
}
