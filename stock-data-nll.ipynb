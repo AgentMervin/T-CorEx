{
 "cells": [
  {
   "cell_type": "code",
   "execution_count": 1,
   "metadata": {
    "collapsed": true
   },
   "outputs": [],
   "source": [
    "from __future__ import division\n",
    "from __future__ import absolute_import\n",
    "from __future__ import print_function"
   ]
  },
  {
   "cell_type": "code",
   "execution_count": 2,
   "metadata": {
    "collapsed": true
   },
   "outputs": [],
   "source": [
    "import numpy as np \n",
    "import cPickle as pkl\n",
    "from matplotlib import pyplot as plt\n",
    "import pandas as pd\n",
    "from theano_time_corex import *\n",
    "import linearcorex\n",
    "from generate_data import *\n",
    "import vis_utils\n",
    "import metric_utils\n",
    "import random\n",
    "import baselines"
   ]
  },
  {
   "cell_type": "markdown",
   "metadata": {},
   "source": [
    "# Load Data"
   ]
  },
  {
   "cell_type": "markdown",
   "metadata": {},
   "source": [
    "### some arguments"
   ]
  },
  {
   "cell_type": "code",
   "execution_count": 3,
   "metadata": {
    "collapsed": true
   },
   "outputs": [],
   "source": [
    "nt = 30\n",
    "nv = 128\n",
    "train_cnt = 6\n",
    "val_cnt = 2\n",
    "test_cnt = 2\n",
    "data_type='stock_day'\n",
    "start_date='2000-01-01'\n",
    "end_date='2018-01-01'"
   ]
  },
  {
   "cell_type": "code",
   "execution_count": 4,
   "metadata": {},
   "outputs": [
    {
     "name": "stdout",
     "output_type": "stream",
     "text": [
      "Loading stock data ...\n",
      "Stock data is loaded:\n",
      "\ttrain shape: (387, 6, 128)\n",
      "\tval   shape: (387, 2, 128)\n",
      "\ttest  shape: (387, 2, 128)\n",
      "train shape: (30, 6, 128)\n",
      "val   shape: (30, 2, 128)\n",
      "test  shape: (30, 2, 128)\n"
     ]
    }
   ],
   "source": [
    "train_data, val_data, test_data = load_stock_data(\n",
    "        nv=nv, train_cnt=train_cnt, val_cnt=val_cnt, test_cnt=test_cnt,\n",
    "        data_type=data_type, stride='full',\n",
    "        start_date=start_date, end_date=end_date)\n",
    "\n",
    "train_data = train_data[-nt:]\n",
    "val_data = val_data[-nt:]\n",
    "test_data = test_data[-nt:]\n",
    "nt = len(train_data)\n",
    "\n",
    "print('train shape:', np.array(train_data).shape)\n",
    "print('val   shape:', np.array(val_data).shape)\n",
    "print('test  shape:', np.array(test_data).shape)"
   ]
  },
  {
   "cell_type": "markdown",
   "metadata": {
    "collapsed": true
   },
   "source": [
    "# Baselines"
   ]
  },
  {
   "cell_type": "code",
   "execution_count": 6,
   "metadata": {},
   "outputs": [],
   "source": [
    "nhidden_grid = [8, 16, 32]\n",
    "tcorex_gamma_grid = [1.25, 1.5, 2.0, 3.0, 4.0]\n",
    "\n",
    "methods = [\n",
    "    (baselines.Diagonal(name='Diagonal'), {}),\n",
    "\n",
    "    (baselines.LedoitWolf(name='Ledoit-Wolf'), {}),\n",
    "\n",
    "    (baselines.OAS(name='Oracle approximating shrinkage'), {}),\n",
    "\n",
    "    (baselines.PCA(name='PCA'), {'n_components': nhidden_grid}),\n",
    "\n",
    "    (baselines.FactorAnalysis(name='Factor Analysis'), {'n_components': nhidden_grid}),\n",
    "\n",
    "    (baselines.LinearCorex(name='Linear CorEx (applied bucket-wise)'), {\n",
    "        'n_hidden': nhidden_grid,\n",
    "        'max_iter': 500,\n",
    "        'anneal': True}),\n",
    "\n",
    "    (baselines.LinearCorexWholeData(name='Linear CorEx (applied on whole data)'), {\n",
    "        'n_hidden': nhidden_grid,\n",
    "        'max_iter': 500,\n",
    "        'anneal': True}),\n",
    "\n",
    "    (baselines.GraphLasso(name='Graphical LASSO (sklearn)'), {\n",
    "        'alpha': [0.003, 0.01, 0.03, 0.1, 0.3, 1.0],\n",
    "        'mode': 'lars',\n",
    "        'max_iter': 100}),\n",
    "\n",
    "    (baselines.TimeVaryingGraphLasso(name='T-GLASSO'), {\n",
    "        'lamb': [0.01, 0.03, 0.1, 0.3],\n",
    "        'beta': [0.03, 0.1, 0.3, 1.0],\n",
    "        'indexOfPenalty': [1],  # TODO: extend grid of this one; NOTE: L2 is slow and not efficient\n",
    "        'max_iter': 100}),\n",
    "\n",
    "    (baselines.TimeVaryingGraphLasso(name='T-GLASSO (no reg)'), {\n",
    "        'lamb': [0.003, 0.01, 0.03, 0.1, 0.3, 1.0],\n",
    "        'beta': [0.0],\n",
    "        'indexOfPenalty': [1],\n",
    "        'max_iter': 100}),\n",
    "\n",
    "    (baselines.TCorex(tcorex=TCorex, name='T-Corex (W)'), {\n",
    "        'nv': nv,\n",
    "        'n_hidden': nhidden_grid,\n",
    "        'max_iter': 500,\n",
    "        'anneal': True,\n",
    "        'reg_params': {\n",
    "            'l2': [],\n",
    "            'l1': [0.001, 0.01, 0.1, 1.0, 10.0, 100.0],\n",
    "        },\n",
    "        'reg_type': 'W'\n",
    "    }),\n",
    "\n",
    "    (baselines.TCorex(tcorex=TCorexWeights, name='T-Corex (W, weighted samples, no reg)'), {\n",
    "        'nv': nv,\n",
    "        'n_hidden': nhidden_grid,\n",
    "        'max_iter': 500,\n",
    "        'anneal': True,\n",
    "        'l1': [0.0],\n",
    "        'l2': 0.0,\n",
    "        'gamma': tcorex_gamma_grid,\n",
    "        'reg_type': 'W',\n",
    "        'init': True\n",
    "    }),\n",
    "\n",
    "    (baselines.TCorex(tcorex=TCorexWeights, name='T-Corex (W, weighted samples)'), {\n",
    "        'nv': nv,\n",
    "        'n_hidden': nhidden_grid,\n",
    "        'max_iter': 500,\n",
    "        'anneal': True,\n",
    "        'reg_params': {\n",
    "            # 'l1': [0, 0.001, 0.003, 0.01, 0.03, 0.1, 0.3, 1.0, 3.0, 10.0],\n",
    "            'l1': [0.001, 0.01, 0.1, 1.0, 10.0, 100.0],\n",
    "            'l2': [],\n",
    "        },\n",
    "        'gamma': tcorex_gamma_grid,\n",
    "        'reg_type': 'W',\n",
    "        'init': True\n",
    "    })\n",
    "]"
   ]
  },
  {
   "cell_type": "markdown",
   "metadata": {},
   "source": [
    "## Ledoit-Wolf"
   ]
  },
  {
   "cell_type": "code",
   "execution_count": 10,
   "metadata": {},
   "outputs": [
    {
     "name": "stdout",
     "output_type": "stream",
     "text": [
      "\n",
      "--------------------------------------------------------------------------------\n",
      "Selecting the best parameter values for Ledoit-Wolf ...\n",
      "done 0 / 1 | running with \n",
      "Training Ledoit-Wolf ...\n",
      "\tElapsed time 0.1s\n",
      "\tcurrent score: -205.626495183\n",
      "\n",
      "Finished with best validation score: -205.626495183\n",
      "Evaluating Ledoit-Wolf ...\n",
      "\tScore: -265.5408\n"
     ]
    },
    {
     "data": {
      "image/png": "[encoded data removed]",
      "text/plain": [
       "<matplotlib.figure.Figure at 0x7f2ff0ff9750>"
      ]
     },
     "metadata": {},
     "output_type": "display_data"
    }
   ],
   "source": [
    "lw = methods[1]\n",
    "lw_best_score, lw_best_params, lw_covs, _ = lw[0].select(train_data, val_data, lw[1])\n",
    "lw[0].evaluate(test_data)\n",
    "\n",
    "plt.figure()\n",
    "plt.imshow(lw_covs[0])\n",
    "plt.show()"
   ]
  },
  {
   "cell_type": "markdown",
   "metadata": {},
   "source": [
    "## T-GLASSO (no reg.)"
   ]
  },
  {
   "cell_type": "code",
   "execution_count": null,
   "metadata": {},
   "outputs": [
    {
     "name": "stdout",
     "output_type": "stream",
     "text": [
      "\n",
      "--------------------------------------------------------------------------------\n",
      "Selecting the best parameter values for T-GLASSO (no reg) ...\n",
      "done 0 / 6 | running with lamb: 0.003\tbeta: 0.0\tindexOfPenalty: 1\t\n",
      "Training T-GLASSO (no reg) ...\n",
      "Use l-1 penalty function\n",
      "30\n",
      "lambda = 0.003, beta = 0.0\n"
     ]
    }
   ],
   "source": [
    "tg_noreg = methods[-4]\n",
    "tg_noreg_best_score, tg_noreg_best_params, tg_noreg_covs, _ = tg_noreg[0].select(train_data, val_data, tg_noreg[1])\n",
    "tg_noreg[0].evaluate(test_data)\n",
    "\n",
    "plt.figure()\n",
    "plt.imshow(tg_noreg_covs[0])\n",
    "plt.show()"
   ]
  },
  {
   "cell_type": "code",
   "execution_count": null,
   "metadata": {
    "collapsed": true
   },
   "outputs": [],
   "source": []
  }
 ],
 "metadata": {
  "kernelspec": {
   "display_name": "Python 2",
   "language": "python",
   "name": "python2"
  },
  "language_info": {
   "codemirror_mode": {
    "name": "ipython",
    "version": 2
   },
   "file_extension": ".py",
   "mimetype": "text/x-python",
   "name": "python",
   "nbconvert_exporter": "python",
   "pygments_lexer": "ipython2",
   "version": "2.7.13"
  }
 },
 "nbformat": 4,
 "nbformat_minor": 2
}
